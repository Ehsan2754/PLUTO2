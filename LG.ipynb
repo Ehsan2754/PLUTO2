{
 "metadata": {
  "language_info": {
   "codemirror_mode": {
    "name": "ipython",
    "version": 3
   },
   "file_extension": ".py",
   "mimetype": "text/x-python",
   "name": "python",
   "nbconvert_exporter": "python",
   "pygments_lexer": "ipython3",
   "version": "3.9.1-final"
  },
  "orig_nbformat": 2,
  "kernelspec": {
   "name": "python3",
   "display_name": "Python 3.9.1 64-bit ('env')",
   "metadata": {
    "interpreter": {
     "hash": "f96a95c6f11f9d468112fc6a6956bf0cbf6d463e07d5617381fbe3d6437b2c70"
    }
   }
  }
 },
 "nbformat": 4,
 "nbformat_minor": 2,
 "cells": [
  {
   "source": [
    "# Laurrel Gaussian Transform\n"
   ],
   "cell_type": "markdown",
   "metadata": {}
  },
  {
   "cell_type": "code",
   "execution_count": 6,
   "metadata": {},
   "outputs": [
    {
     "output_type": "stream",
     "name": "stdout",
     "text": [
      "Defaulting to user installation because normal site-packages is not writeable\nRequirement already satisfied: numpy in c:\\users\\ahuratus\\appdata\\roaming\\python\\python39\\site-packages (1.20.1)\n"
     ]
    }
   ],
   "source": [
    " !pip install numpy"
   ]
  },
  {
   "cell_type": "code",
   "execution_count": 6,
   "metadata": {},
   "outputs": [
    {
     "output_type": "stream",
     "name": "stdout",
     "text": [
      "[[ 724.22372234  723.40928941  722.59532243 ... 1391.87966434\n  1392.83308404 1393.78656903]\n [ 723.64424961  722.82916377  722.01454279 ... 1391.5782407\n  1392.53186678 1393.48555787]\n [ 723.06569549  722.24995673  721.43468173 ... 1391.27747053\n  1392.23130262 1393.18519946]\n ...\n [ 883.03397443  882.36613716  881.69892821 ... 1480.73562799\n  1481.63187061 1482.52824594]\n [ 883.77825273  883.1109783   882.44433252 ... 1481.17959748\n  1482.07557162 1482.97167876]\n [ 884.52303531  883.85632317  883.19023998 ... 1481.62410888\n  1482.51981437 1483.41565315]] [[-2.5229483  -2.52214664 -2.52134317 ... -0.30652792 -0.30631127\n  -0.30609492]\n [-2.52407408 -2.52327305 -2.5224702  ... -0.30584281 -0.30562658\n  -0.30541066]\n [-2.52520167 -2.52440126 -2.52359905 ... -0.3051574  -0.3049416\n  -0.30472609]\n ...\n [ 2.30251715  2.30167394  2.30082944 ...  0.45972132  0.45942186\n   0.45912275]\n [ 2.30176114  2.30091806  2.30007371 ...  0.46032637  0.46002662\n   0.45972724]\n [ 2.30100639  2.30016346  2.29931925 ...  0.46093104  0.46063103\n   0.46033137]]\n"
     ]
    }
   ],
   "source": [
    "import numpy as np\n",
    "P = 0\n",
    "LG = []\n",
    "WIDTH  = 1920 # HARDCODED\n",
    "HEIGHT = 1080 # HARDCODED\n",
    "def getAxis(magnitute,shift):\n",
    "    return np.linspace(-1*magnitute/2+shift,magnitute/2+shift-1,magnitute)\n",
    "x,y = (getAxis(WIDTH,370),getAxis(HEIGHT,120))\n",
    "xv,yv = np.meshgrid(x,y)\n",
    "def car2polar(x,y):\n",
    "    rho = np.sqrt(x**2 + y**2)\n",
    "    phi = np.arctan2(y, x)\n",
    "    return rho, phi\n",
    "rho,phi = car2polar(xv,yv)\n",
    "print(rho,phi) \n",
    "\n",
    "# curtain = np.array(HEIGHT*[WIDTH*[1]])\n"
   ]
  },
  {
   "cell_type": "code",
   "execution_count": null,
   "metadata": {},
   "outputs": [],
   "source": []
  }
 ]
}