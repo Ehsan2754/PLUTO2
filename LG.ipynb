{
 "metadata": {
  "language_info": {
   "codemirror_mode": {
    "name": "ipython",
    "version": 3
   },
   "file_extension": ".py",
   "mimetype": "text/x-python",
   "name": "python",
   "nbconvert_exporter": "python",
   "pygments_lexer": "ipython3",
   "version": "3.9.1-final"
  },
  "orig_nbformat": 2,
  "kernelspec": {
   "name": "python3",
   "display_name": "Python 3.9.1 64-bit",
   "metadata": {
    "interpreter": {
     "hash": "ac59ebe37160ed0dfa835113d9b8498d9f09ceb179beaac4002f036b9467c963"
    }
   }
  }
 },
 "nbformat": 4,
 "nbformat_minor": 2,
 "cells": [
  {
   "source": [
    "# Laurrel Gaussian Transform\n"
   ],
   "cell_type": "markdown",
   "metadata": {}
  },
  {
   "cell_type": "code",
   "execution_count": 26,
   "metadata": {},
   "outputs": [
    {
     "output_type": "stream",
     "name": "stdout",
     "text": [
      "Defaulting to user installation because normal site-packages is not writeable\n",
      "Requirement already satisfied: numpy in c:\\users\\ahuratus\\appdata\\roaming\\python\\python39\\site-packages (1.20.1)\n"
     ]
    }
   ],
   "source": [
    " !pip install numpy"
   ]
  },
  {
   "cell_type": "code",
   "execution_count": 1,
   "metadata": {
    "tags": []
   },
   "outputs": [
    {
     "output_type": "stream",
     "name": "stdout",
     "text": [
      "iVBORw0KGgoAAAANSUhE\n"
     ]
    }
   ],
   "source": [
    "import numpy as np\n",
    "from cmath import phase\n",
    "from math import factorial\n",
    "from scipy.special import assoc_laguerre as lg\n",
    "import matplotlib.pyplot as plt\n",
    "from matplotlib import cm\n",
    "from matplotlib.ticker import LinearLocator, FormatStrFormatter\n",
    "w0=100 # Waist Beam\n",
    "P = 0  # Radial Index\n",
    "LG = [\n",
    "    (2,np.sqrt(5/80)),\n",
    "    (-2,np.sqrt(5/80)),\n",
    "    (3,np.sqrt(0/80)),\n",
    "    (4,np.sqrt(0/80)),\n",
    "    (0,np.sqrt(0/105)),\n",
    "    ]\n",
    "WIDTH  = 1920 # HARDCODED\n",
    "HEIGHT = 1080 # HARDCODED\n",
    "\n",
    "def getAxis(magnitute,shift):\n",
    "    return np.linspace(-1*magnitute/2+shift,magnitute/2+shift-1,magnitute)\n",
    "def car2polar(x,y):\n",
    "    rho = np.hypot(x,y)\n",
    "    phi = np.arctan2(y, x)\n",
    "    return rho, phi\n",
    "def Lpl(x,l,p):\n",
    "    value = 0\n",
    "    for i in range(p+1):\n",
    "        value = value+((-1)**(i))*factorial(p+abs(l))/factorial(p-i)/factorial(abs(l)+i)/factorial(i)*x**i\n",
    "    return value\n",
    "def N_PL(p,l):\n",
    "    return np.sqrt(factorial(p)/factorial(p+abs(l)))\n",
    "def lagurrelGussian(rho,phi,w,l,p):\n",
    "    # res = ((-1)**p)* np.sqrt( 2*factorial(p)/w/w/factorial(p+abs(l)))*((np.sqrt(2)*rho)**abs(l))\n",
    "    # c=1.5\n",
    "    # x=(rho/(w/c))**2\n",
    "    # res = res* ( np.exp(1j*l*phi) * Lpl(2*x,l,p) * np.exp((-1*(rho/w))**2))\n",
    "    # return res\n",
    "    # return lg(2*((rho/w)**2),p,l)*np.exp(-1*((rho/w)**2))*np.exp(-1j*l*phi)*((np.sqrt(2)*rho/w)**abs(l))\n",
    "    rho2w = rho/w\n",
    "    return N_PL(p,l)*np.power(np.sqrt(2)*rho2w,abs(l))*lg(2*np.power(rho2w,2),p,abs(l))*np.exp(-1*np.power(rho2w,2))*np.exp(complex(0,-1)*l*phi)\n",
    "\n",
    "x, y     = getAxis(WIDTH,-10),getAxis(HEIGHT,-10)\n",
    "xv, yv   = np.meshgrid(x,y)\n",
    "rho, phi = car2polar(xv,yv)\n",
    "out  = 0\n",
    "for m,n in LG:\n",
    "    temp = n*lagurrelGussian(rho,phi,w0,m,P)\n",
    "    out += temp   \n",
    "amp   = np.absolute(out)\n",
    "phase = np.angle(out)\n",
    "amp=amp/np.amax(amp)\n",
    "phase_mod = (phase+2*np.pi*xv/20) % (2*np.pi)   \n",
    "res = amp*phase_mod\n",
    "res8bit = res/res.max()*255\n",
    "# fig = plt.figure()\n",
    "# plt.contourf(res8bit)\n",
    "# plt.colorbar()\n",
    "# plt.show()\n",
    "import base64\n",
    "from io import BytesIO\n",
    "# plt.imshow(res8bit,cmap=\"gray\")\n",
    "buf = BytesIO()\n",
    "plt.imsave(buf,res8bit, cmap=\"gray\",origin='lower', vmin = 0,vmax=255,format=\"png\")\n",
    "fil=open('img_test.png','wb')\n",
    "fil.write(buf.getbuffer())\n",
    "fil.close()\n",
    "# Embed the result in the html output.\n",
    "data = base64.b64encode(buf.getbuffer()).decode(\"ascii\")\n",
    "print(data[:20])\n"
   ]
  },
  {
   "cell_type": "code",
   "execution_count": null,
   "metadata": {},
   "outputs": [],
   "source": []
  }
 ]
}