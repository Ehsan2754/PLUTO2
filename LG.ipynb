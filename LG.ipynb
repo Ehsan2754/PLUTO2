{
 "metadata": {
  "language_info": {
   "codemirror_mode": {
    "name": "ipython",
    "version": 3
   },
   "file_extension": ".py",
   "mimetype": "text/x-python",
   "name": "python",
   "nbconvert_exporter": "python",
   "pygments_lexer": "ipython3",
   "version": "3.9.1-final"
  },
  "orig_nbformat": 2,
  "kernelspec": {
   "name": "python3",
   "display_name": "Python 3.9.1 64-bit ('env')",
   "metadata": {
    "interpreter": {
     "hash": "f96a95c6f11f9d468112fc6a6956bf0cbf6d463e07d5617381fbe3d6437b2c70"
    }
   }
  }
 },
 "nbformat": 4,
 "nbformat_minor": 2,
 "cells": [
  {
   "source": [
    "# Laurrel Gaussian Transform\n"
   ],
   "cell_type": "markdown",
   "metadata": {}
  },
  {
   "cell_type": "code",
   "execution_count": null,
   "metadata": {},
   "outputs": [],
   "source": [
    " !pip install numpy"
   ]
  },
  {
   "cell_type": "code",
   "execution_count": 24,
   "metadata": {
    "tags": []
   },
   "outputs": [
    {
     "output_type": "stream",
     "name": "stdout",
     "text": [
      "[1.27731718e+58+2.13486440e+58j 1.04898185e+58+1.75676082e+58j]\n"
     ]
    }
   ],
   "source": [
    "import numpy as np\n",
    "from math import factorial\n",
    "w0=100 # Waist Beam\n",
    "P = 0  # Radial Index\n",
    "LG = [2]\n",
    "WIDTH  = 1920 # HARDCODED\n",
    "HEIGHT = 1080 # HARDCODED\n",
    "def getAxis(magnitute,shift):\n",
    "    return np.linspace(-1*magnitute/2+shift,magnitute/2+shift-1,magnitute)\n",
    "\n",
    "def car2polar(x,y):\n",
    "    rho = np.hypot(x,y)\n",
    "    phi = np.arctan2(y, x)\n",
    "    return rho, phi\n",
    "\n",
    "def lpl(x,l,p):\n",
    "    value = 0\n",
    "    for i in range(p+1):\n",
    "        value = value+((-1)**(i))*factorial(p+abs(l))/factorial(p-i)/factorial(abs(l)+i)/factorial(i)*x**i\n",
    "    return value\n",
    "\n",
    "def lagurrelGussian(rho,phi,w,l,p):\n",
    "    res = ((-1)**p)* np.sqrt( 2*factorial(p)/w/w/factorial(p+abs(l)))*((np.sqrt(2)*rho)**abs(l))\n",
    "    c=1.5\n",
    "    x=(rho/(w/c))**2\n",
    "    res = res* ( np.exp(1j*l*phi) * lpl(2*x,l,p) * np.exp((-1*(rho/w))**2))\n",
    "    return res\n",
    "\n",
    "x,y = (getAxis(WIDTH,-10),getAxis(HEIGHT,-10))\n",
    "xv,yv = np.meshgrid(x,y)\n",
    "rho,phi = car2polar(xv,yv)\n",
    "c=1.5\n",
    "q= (rho/(w0/c))**2\n",
    "# out = lpl(2*q,LG[0],P)\n",
    "out = lagurrelGussian(rho,phi,w0,2,P)\n",
    " \n",
    "\n",
    "print (out[0][:2])\n",
    "# curtain = np.array(HEIGHT*[WIDTH*[1]])\n"
   ]
  },
  {
   "cell_type": "code",
   "execution_count": null,
   "metadata": {},
   "outputs": [],
   "source": []
  }
 ]
}